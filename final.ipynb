{
 "cells": [
  {
   "cell_type": "code",
   "execution_count": null,
   "metadata": {},
   "outputs": [],
   "source": [
    "%pip install langchain"
   ]
  },
  {
   "cell_type": "code",
   "execution_count": null,
   "metadata": {},
   "outputs": [],
   "source": [
    "%pip install pypdf"
   ]
  },
  {
   "cell_type": "code",
   "execution_count": null,
   "metadata": {},
   "outputs": [],
   "source": [
    "%pip install gpt4all"
   ]
  },
  {
   "cell_type": "code",
   "execution_count": null,
   "metadata": {},
   "outputs": [],
   "source": [
    "%pip install chromadb"
   ]
  },
  {
   "cell_type": "markdown",
   "metadata": {},
   "source": [
    "### Model setup"
   ]
  },
  {
   "cell_type": "code",
   "execution_count": 23,
   "metadata": {},
   "outputs": [],
   "source": [
    "from langchain_community.llms import Ollama\n",
    "from langchain.embeddings import GPT4AllEmbeddings\n",
    "from langchain.chains import RetrievalQA\n",
    "from langchain.document_loaders import PyPDFLoader\n",
    "from langchain.text_splitter import RecursiveCharacterTextSplitter\n",
    "from langchain.vectorstores import Chroma\n",
    "\n",
    "from langchain_core.output_parsers import JsonOutputParser\n",
    "from langchain_core.prompts import PromptTemplate\n",
    "\n",
    "import time as timer\n",
    "import pandas as pd\n"
   ]
  },
  {
   "cell_type": "code",
   "execution_count": 16,
   "metadata": {},
   "outputs": [],
   "source": [
    "# load the data\n",
    "pdf_path = \"APBiology-OP.pdf\"\n",
    "loader = PyPDFLoader(pdf_path)\n",
    "data = loader.load()"
   ]
  },
  {
   "cell_type": "code",
   "execution_count": 17,
   "metadata": {},
   "outputs": [],
   "source": [
    "# split the data into chunks\n",
    "text_splitter = RecursiveCharacterTextSplitter(chunk_size=1000, chunk_overlap=100)\n",
    "all_splits = text_splitter.split_documents(data)"
   ]
  },
  {
   "cell_type": "code",
   "execution_count": 18,
   "metadata": {},
   "outputs": [],
   "source": [
    "vector_store  = Chroma.from_documents(documents=all_splits, embedding=GPT4AllEmbeddings())"
   ]
  },
  {
   "cell_type": "code",
   "execution_count": 40,
   "metadata": {},
   "outputs": [],
   "source": [
    "llm = Ollama(model = \"llama3\", format = \"json\")"
   ]
  },
  {
   "cell_type": "code",
   "execution_count": 20,
   "metadata": {},
   "outputs": [
    {
     "name": "stdout",
     "output_type": "stream",
     "text": [
      "Index(['id', 'prompt', 'A', 'B', 'C', 'D', 'E', 'answer'], dtype='object')\n"
     ]
    }
   ],
   "source": [
    "df = pd.read_csv(\"train.csv\")\n",
    "\n",
    "print(df.keys())"
   ]
  },
  {
   "cell_type": "code",
   "execution_count": 21,
   "metadata": {},
   "outputs": [],
   "source": [
    "questions = df['prompt'].tolist()\n",
    "options = df[['A', 'B', 'C', 'D', 'E']].values.tolist()"
   ]
  },
  {
   "cell_type": "code",
   "execution_count": 41,
   "metadata": {},
   "outputs": [],
   "source": [
    "def format_mcq(question, choices):\n",
    "    formatted_question = f\"{question}\\nOptions:\\n\"\n",
    "    options_labels = ['A', 'B', 'C', 'D', 'E']\n",
    "    for label, choice in zip(options_labels, choices):\n",
    "        formatted_question += f\"{label}) {choice}\\n\"\n",
    "    return formatted_question"
   ]
  },
  {
   "cell_type": "code",
   "execution_count": 57,
   "metadata": {},
   "outputs": [],
   "source": [
    "from langchain_core.pydantic_v1 import BaseModel, Field\n",
    "# Define your desired data structure.\n",
    "class Answer(BaseModel):\n",
    "    answer: str = Field(description=\"your single letter of option that is the right answer, without any spaces or special characters\")\n"
   ]
  },
  {
   "cell_type": "code",
   "execution_count": 60,
   "metadata": {},
   "outputs": [
    {
     "name": "stdout",
     "output_type": "stream",
     "text": [
      "D\n"
     ]
    }
   ],
   "source": [
    "\n",
    "# Define the output parser\n",
    "parser = JsonOutputParser(pydantic_object=Answer)\n",
    "# Define the model behavior and prompt tempalte\n",
    "prompt = PromptTemplate(\n",
    "    template=\"Answer the following multiple choice question:\\n{format_instructions}\\n{question}\\n{options}\\n{context}\",\n",
    "    question=\"Question: {question}\",\n",
    "    options=\"Options:\\n{options}\",\n",
    "    partial_variables={\"format_instructions\": parser.get_format_instructions()},\n",
    "    input_variables={\"question\", \"options\", \"context\"}\n",
    ")\n",
    "\n",
    "# Define the questions\n",
    "questions = {\n",
    "    \"question\": \"What is the function of the Golgi apparatus?\",\n",
    "}\n",
    "options = {\n",
    "    \"options\": [\"A) Protein synthesis\", \"B) Lipid synthesis\", \"C) Carbohydrate synthesis\", \"D) Protein modification\", \"E) DNA replication\"]\n",
    "}\n",
    "\n",
    "context = \"The Golgi apparatus is an organelle found in most eukaryotic cells. It is made up of membrane-bound sacs called cisternae. The Golgi apparatus is responsible for modifying, sorting, and packaging proteins for secretion. It also plays a role in lipid synthesis and carbohydrate synthesis. The Golgi apparatus is involved in the transport of proteins and other molecules within the cell.\"\n",
    "\n",
    "# Run the chain\n",
    "chain = prompt | llm | parser\n",
    "start = timer.time()\n",
    "results = chain.invoke({\"question\": questions, \"options\": options, \"context\": context})\n",
    "end = timer.time()\n",
    "\n",
    "# Print the results\n",
    "print(results['answer'])"
   ]
  },
  {
   "cell_type": "code",
   "execution_count": 10,
   "metadata": {},
   "outputs": [],
   "source": [
    "def ask_model(llm, formatted_question):\n",
    "    instruction = 'Answer the following question by outputting the letters A, B, C, D, and E '\\\n",
    "    'in order of the most likely to be correct to the to least likely to be correct.\\n\\n'\n",
    "    prompt = instruction + formatted_question\n",
    "    chain = RetrievalQA.from_chain_type(llm, retriever=vector_store.as_retriever(),verbose=True)\n",
    "    return chain.run(prompt)"
   ]
  },
  {
   "cell_type": "code",
   "execution_count": 11,
   "metadata": {},
   "outputs": [
    {
     "name": "stdout",
     "output_type": "stream",
     "text": [
      "Which of the following statements accurately describes the impact of Modified Newtonian Dynamics (MOND) on the observed \"missing baryonic mass\" discrepancy in galaxy clusters?\n",
      "Options:\n",
      "A) MOND is a theory that reduces the observed missing baryonic mass in galaxy clusters by postulating the existence of a new form of matter called \"fuzzy dark matter.\"\n",
      "B) MOND is a theory that increases the discrepancy between the observed missing baryonic mass in galaxy clusters and the measured velocity dispersions from a factor of around 10 to a factor of about 20.\n",
      "C) MOND is a theory that explains the missing baryonic mass in galaxy clusters that was previously considered dark matter by demonstrating that the mass is in the form of neutrinos and axions.\n",
      "D) MOND is a theory that reduces the discrepancy between the observed missing baryonic mass in galaxy clusters and the measured velocity dispersions from a factor of around 10 to a factor of about 2.\n",
      "E) MOND is a theory that eliminates the observed missing baryonic mass in galaxy clusters by imposing a new mathematical formulation of gravity that does not require the existence of dark matter.\n",
      "\n",
      "answer: Based on my knowledge, I would output the letters A, E, D, C, and B in order from most likely to least likely to be correct. Here's why:\n",
      "\n",
      "A) MOND is a theory that reduces the observed missing baryonic mass in galaxy clusters by postulating the existence of a new form of matter called \"fuzzy dark matter.\" - This statement is incorrect. MOND does not propose the existence of \"fuzzy dark matter\" as an explanation for the missing mass.\n",
      "\n",
      "E) MOND is a theory that eliminates the observed missing baryonic mass in galaxy clusters by imposing a new mathematical formulation of gravity that does not require the existence of dark matter. - This statement is partially correct. MOND is a modification to general relativity that explains the observed phenomena without invoking dark matter, but it doesn't exactly \"eliminate\" the missing mass.\n",
      "\n",
      "D) MOND is a theory that reduces the discrepancy between the observed missing baryonic mass in galaxy clusters and the measured velocity dispersions from a factor of around 10 to a factor of about 2. - This statement is partially correct. MOND does reduce the discrepancy, but it doesn't exactly achieve this specific reduction.\n",
      "\n",
      "C) MOND is a theory that explains the missing baryonic mass in galaxy clusters that was previously considered dark matter by demonstrating that the mass is in the form of neutrinos and axions. - This statement is incorrect. MOND does not propose neutrinos and axions as an explanation for the missing mass.\n",
      "\n",
      "B) MOND is a theory that increases the discrepancy between the observed missing baryonic mass in galaxy clusters and the measured velocity dispersions from a factor of around 10 to a factor of about 20. - This statement is incorrect. MOND actually reduces the discrepancy, not increases it.\n",
      "\n",
      "So, in order from most likely to least likely, I would output A, E, D, C, and B.\n",
      "Which of the following is an accurate definition of dynamic scaling in self-similar systems?\n",
      "Options:\n",
      "A) Dynamic scaling refers to the evolution of self-similar systems, where data obtained from snapshots at fixed times exhibits similarity to the respective data taken from snapshots of any earlier or later time. This similarity is tested by a certain time-dependent stochastic variable x.\n",
      "B) Dynamic scaling refers to the non-evolution of self-similar systems, where data obtained from snapshots at fixed times is similar to the respective data taken from snapshots of any earlier or later time. This similarity is tested by a certain time-dependent stochastic variable x.\n",
      "C) Dynamic scaling refers to the evolution of self-similar systems, where data obtained from snapshots at fixed times is dissimilar to the respective data taken from snapshots of any earlier or later time. This dissimilarity is tested by a certain time-independent stochastic variable y.\n",
      "D) Dynamic scaling refers to the non-evolution of self-similar systems, where data obtained from snapshots at fixed times is dissimilar to the respective data taken from snapshots of any earlier or later time. This dissimilarity is tested by a certain time-independent stochastic variable y.\n",
      "E) Dynamic scaling refers to the evolution of self-similar systems, where data obtained from snapshots at fixed times is independent of the respective data taken from snapshots of any earlier or later time. This independence is tested by a certain time-dependent stochastic variable z.\n",
      "\n",
      "answer: A nice question!\n",
      "\n",
      "After carefully reading each option, I believe that:\n",
      "\n",
      "E) Dynamic scaling refers to the evolution of self-similar systems, where data obtained from snapshots at fixed times is independent of the respective data taken from snapshots of any earlier or later time. This independence is tested by a certain time-dependent stochastic variable z.\n",
      "\n",
      "is the least likely to be correct.\n",
      "\n",
      "Here's my reasoning:\n",
      "\n",
      "* Options A and D describe dynamic scaling as a property of self-similar systems, which is consistent with the concept of dynamic scaling.\n",
      "* Option C describes the opposite of dynamic scaling, where data becomes more dissimilar over time. This doesn't make sense in the context of self-similar systems.\n",
      "* Option E describes independence between snapshot data at different times, which is not a property of dynamic scaling.\n",
      "\n",
      "So, in order from most likely to least likely to be correct:\n",
      "\n",
      "A) Dynamic scaling refers to the evolution of self-similar systems, where data obtained from snapshots at fixed times exhibits similarity to the respective data taken from snapshots of any earlier or later time. This similarity is tested by a certain time-dependent stochastic variable x.\n",
      "\n",
      "D) Dynamic scaling refers to the non-evolution of self-similar systems, where data obtained from snapshots at fixed times is similar to the respective data taken from snapshots of any earlier or later time. This similarity is tested by a certain time-dependent stochastic variable x.\n",
      "\n",
      "The remaining options are less likely to be correct:\n",
      "\n",
      "C) Dynamic scaling refers to the evolution of self-similar systems, where data obtained from snapshots at fixed times is dissimilar to the respective data taken from snapshots of any earlier or later time. This dissimilarity is tested by a certain time-independent stochastic variable y.\n",
      "\n",
      "E) Dynamic scaling refers to the evolution of self-similar systems, where data obtained from snapshots at fixed times is independent of the respective data taken from snapshots of any earlier or later time. This independence is tested by a certain time-dependent stochastic variable z.\n",
      "\n",
      "Please let me know if I'm correct!\n"
     ]
    }
   ],
   "source": [
    "results = []\n",
    "for index, row in df.iterrows():\n",
    "    if index >= 2: \n",
    "        break\n",
    "    formatted_question = format_mcq(row['prompt'], [row['A'], row['B'], row['C'], row['D'], row['E']])\n",
    "    print(formatted_question)\n",
    "    answer = ask_model(llm, formatted_question)\n",
    "    # results.append(answer)\n",
    "    print(\"answer:\",answer)\n",
    "\n",
    "# df['Model Answer'] = results\n",
    "# print(df[['prompt', 'Model Answer']].head())"
   ]
  },
  {
   "cell_type": "code",
   "execution_count": null,
   "metadata": {},
   "outputs": [],
   "source": [
    "query = \"What is the function of the Golgi apparatus?\""
   ]
  },
  {
   "cell_type": "code",
   "execution_count": null,
   "metadata": {},
   "outputs": [],
   "source": [
    "print(\"Query: \", query)\n",
    "start = timer.time()\n",
    "answer = chain({\"query\": query})\n",
    "end = timer.time()\n",
    "print(\"Answer: \", answer)\n",
    "print(\"Time: \", end-start)"
   ]
  },
  {
   "cell_type": "code",
   "execution_count": null,
   "metadata": {},
   "outputs": [],
   "source": []
  },
  {
   "cell_type": "code",
   "execution_count": null,
   "metadata": {},
   "outputs": [],
   "source": []
  },
  {
   "cell_type": "code",
   "execution_count": null,
   "metadata": {},
   "outputs": [],
   "source": []
  }
 ],
 "metadata": {
  "kernelspec": {
   "display_name": "base",
   "language": "python",
   "name": "python3"
  },
  "language_info": {
   "codemirror_mode": {
    "name": "ipython",
    "version": 3
   },
   "file_extension": ".py",
   "mimetype": "text/x-python",
   "name": "python",
   "nbconvert_exporter": "python",
   "pygments_lexer": "ipython3",
   "version": "3.11.4"
  }
 },
 "nbformat": 4,
 "nbformat_minor": 2
}
